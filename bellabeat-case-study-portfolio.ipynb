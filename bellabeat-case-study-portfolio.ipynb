{
 "cells": [
  {
   "cell_type": "code",
   "execution_count": 1,
   "id": "ff51d641",
   "metadata": {
    "_execution_state": "idle",
    "_uuid": "051d70d956493feee0c6d64651c6a088724dca2a",
    "execution": {
     "iopub.execute_input": "2025-05-04T22:29:05.598799Z",
     "iopub.status.busy": "2025-05-04T22:29:05.596332Z",
     "iopub.status.idle": "2025-05-04T22:29:06.978875Z",
     "shell.execute_reply": "2025-05-04T22:29:06.977065Z"
    },
    "papermill": {
     "duration": 1.390561,
     "end_time": "2025-05-04T22:29:06.981852",
     "exception": false,
     "start_time": "2025-05-04T22:29:05.591291",
     "status": "completed"
    },
    "tags": []
   },
   "outputs": [
    {
     "name": "stderr",
     "output_type": "stream",
     "text": [
      "── \u001b[1mAttaching core tidyverse packages\u001b[22m ──────────────────────── tidyverse 2.0.0 ──\n",
      "\u001b[32m✔\u001b[39m \u001b[34mdplyr    \u001b[39m 1.1.4     \u001b[32m✔\u001b[39m \u001b[34mreadr    \u001b[39m 2.1.5\n",
      "\u001b[32m✔\u001b[39m \u001b[34mforcats  \u001b[39m 1.0.0     \u001b[32m✔\u001b[39m \u001b[34mstringr  \u001b[39m 1.5.1\n",
      "\u001b[32m✔\u001b[39m \u001b[34mggplot2  \u001b[39m 3.5.1     \u001b[32m✔\u001b[39m \u001b[34mtibble   \u001b[39m 3.2.1\n",
      "\u001b[32m✔\u001b[39m \u001b[34mlubridate\u001b[39m 1.9.3     \u001b[32m✔\u001b[39m \u001b[34mtidyr    \u001b[39m 1.3.1\n",
      "\u001b[32m✔\u001b[39m \u001b[34mpurrr    \u001b[39m 1.0.2     \n"
     ]
    },
    {
     "name": "stderr",
     "output_type": "stream",
     "text": [
      "── \u001b[1mConflicts\u001b[22m ────────────────────────────────────────── tidyverse_conflicts() ──\n",
      "\u001b[31m✖\u001b[39m \u001b[34mdplyr\u001b[39m::\u001b[32mfilter()\u001b[39m masks \u001b[34mstats\u001b[39m::filter()\n",
      "\u001b[31m✖\u001b[39m \u001b[34mdplyr\u001b[39m::\u001b[32mlag()\u001b[39m    masks \u001b[34mstats\u001b[39m::lag()\n",
      "\u001b[36mℹ\u001b[39m Use the conflicted package (\u001b[3m\u001b[34m<http://conflicted.r-lib.org/>\u001b[39m\u001b[23m) to force all conflicts to become errors\n"
     ]
    },
    {
     "data": {
      "text/html": [],
      "text/latex": [],
      "text/markdown": [],
      "text/plain": [
       "character(0)"
      ]
     },
     "metadata": {},
     "output_type": "display_data"
    }
   ],
   "source": [
    "# This R environment comes with many helpful analytics packages installed\n",
    "# It is defined by the kaggle/rstats Docker image: https://github.com/kaggle/docker-rstats\n",
    "# For example, here's a helpful package to load\n",
    "\n",
    "library(tidyverse) # metapackage of all tidyverse packages\n",
    "\n",
    "# Input data files are available in the read-only \"../input/\" directory\n",
    "# For example, running this (by clicking run or pressing Shift+Enter) will list all files under the input directory\n",
    "\n",
    "list.files(path = \"../input\")\n",
    "\n",
    "# You can write up to 20GB to the current directory (/kaggle/working/) that gets preserved as output when you create a version using \"Save & Run All\" \n",
    "# You can also write temporary files to /kaggle/temp/, but they won't be saved outside of the current session"
   ]
  },
  {
   "cell_type": "markdown",
   "id": "5a745f34",
   "metadata": {
    "papermill": {
     "duration": 0.00203,
     "end_time": "2025-05-04T22:29:06.986054",
     "exception": false,
     "start_time": "2025-05-04T22:29:06.984024",
     "status": "completed"
    },
    "tags": []
   },
   "source": [
    "# Bellabeat Case Study - Portfolio\n"
   ]
  },
  {
   "cell_type": "markdown",
   "id": "958a3807",
   "metadata": {
    "papermill": {
     "duration": 0.001988,
     "end_time": "2025-05-04T22:29:06.990022",
     "exception": false,
     "start_time": "2025-05-04T22:29:06.988034",
     "status": "completed"
    },
    "tags": []
   },
   "source": [
    "This project analyzes smart device usage to help Bellabeat improve its marketing strategies."
   ]
  },
  {
   "cell_type": "markdown",
   "id": "f460a81e",
   "metadata": {
    "papermill": {
     "duration": 0.001918,
     "end_time": "2025-05-04T22:29:06.993915",
     "exception": false,
     "start_time": "2025-05-04T22:29:06.991997",
     "status": "completed"
    },
    "tags": []
   },
   "source": [
    "## Project Summary\n",
    "- Dataset: Fitbit (30 users) from Kaggle\n",
    "- Tool: Excel\n",
    "- Analysis: data cleaning, calculated averages, pivot tables and visualizations\n",
    "- Focus: steps, active minutes, calories"
   ]
  },
  {
   "cell_type": "markdown",
   "id": "8e86c968",
   "metadata": {
    "papermill": {
     "duration": 0.001897,
     "end_time": "2025-05-04T22:29:06.997780",
     "exception": false,
     "start_time": "2025-05-04T22:29:06.995883",
     "status": "completed"
    },
    "tags": []
   },
   "source": [
    "## Key Insights\n",
    "- More active minutes predict higher calorie burn\n",
    "- Steps vary most midweek, especially on Wednesdays\n",
    "- Calories burned abd Active minutes remain relatively consistent across all days, which may indicate a balanced overall energy expenditure pattern despite daily fluctuations in step count. \n",
    "\n"
   ]
  },
  {
   "cell_type": "markdown",
   "id": "2c2ba022",
   "metadata": {
    "papermill": {
     "duration": 0.001841,
     "end_time": "2025-05-04T22:29:07.001606",
     "exception": false,
     "start_time": "2025-05-04T22:29:06.999765",
     "status": "completed"
    },
    "tags": []
   },
   "source": [
    "## Recommendations\n",
    "1. Encourage daily device use with personalized reminders\n",
    "2. Launch activity-based campaigns (weekly challenges)\n",
    "3. Improve app visualizations to highlight progress and benefits\n"
   ]
  },
  {
   "cell_type": "markdown",
   "id": "4bb43364",
   "metadata": {
    "papermill": {
     "duration": 0.001795,
     "end_time": "2025-05-04T22:29:07.005239",
     "exception": false,
     "start_time": "2025-05-04T22:29:07.003444",
     "status": "completed"
    },
    "tags": []
   },
   "source": [
    "## Appendix\n",
    "- Processed Excel file available upon request"
   ]
  }
 ],
 "metadata": {
  "kaggle": {
   "accelerator": "none",
   "dataSources": [],
   "isGpuEnabled": false,
   "isInternetEnabled": false,
   "language": "r",
   "sourceType": "notebook"
  },
  "kernelspec": {
   "display_name": "R",
   "language": "R",
   "name": "ir"
  },
  "language_info": {
   "codemirror_mode": "r",
   "file_extension": ".r",
   "mimetype": "text/x-r-source",
   "name": "R",
   "pygments_lexer": "r",
   "version": "4.4.0"
  },
  "papermill": {
   "default_parameters": {},
   "duration": 5.127128,
   "end_time": "2025-05-04T22:29:07.128409",
   "environment_variables": {},
   "exception": null,
   "input_path": "__notebook__.ipynb",
   "output_path": "__notebook__.ipynb",
   "parameters": {},
   "start_time": "2025-05-04T22:29:02.001281",
   "version": "2.6.0"
  }
 },
 "nbformat": 4,
 "nbformat_minor": 5
}
